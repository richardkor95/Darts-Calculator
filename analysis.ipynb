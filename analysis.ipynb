{
 "cells": [
  {
   "cell_type": "code",
   "execution_count": 11,
   "metadata": {},
   "outputs": [],
   "source": [
    "import numpy as np\n",
    "from calculations import get_expected_value\n",
    "import config as cfg\n",
    "from tqdm import tqdm \n",
    "import matplotlib.pyplot as plt"
   ]
  },
  {
   "cell_type": "code",
   "execution_count": 5,
   "metadata": {},
   "outputs": [],
   "source": [
    "def translate_polar_to_kart(r, phi):\n",
    "    x, y = r*np.cos(phi), r*np.sin(phi)\n",
    "    return x, y"
   ]
  },
  {
   "cell_type": "code",
   "execution_count": 6,
   "metadata": {},
   "outputs": [],
   "source": [
    "def print_dict(d):\n",
    "    for i, val in d.items():\n",
    "        print(f\"{i} \\t = {val} \")"
   ]
  },
  {
   "cell_type": "code",
   "execution_count": 13,
   "metadata": {},
   "outputs": [],
   "source": [
    "def dummy():\n",
    "    result = {}\n",
    "\n",
    "    # Bullseye\n",
    "    r = 0\n",
    "    phi = 0\n",
    "    cfg.sigma = 10\n",
    "    cfg.mu = translate_polar_to_kart(r, phi)\n",
    "    result[\"Bull\"] = get_expected_value(None)\n",
    "\n",
    "    r = (cfg.triple_inner + cfg.triple_outer)/2\n",
    "    for i in tqdm(range(20)):\n",
    "        phi = i*(18/360*2*np.pi)\n",
    "        cfg.mu = translate_polar_to_kart(r, phi)\n",
    "        result[cfg.numbers[i]] = get_expected_value(None) \n",
    "\n",
    "    return result"
   ]
  },
  {
   "cell_type": "code",
   "execution_count": 15,
   "metadata": {},
   "outputs": [
    {
     "name": "stderr",
     "output_type": "stream",
     "text": [
      "100%|██████████| 20/20 [00:04<00:00,  4.68it/s]\n"
     ]
    }
   ],
   "source": [
    "result = dummy()"
   ]
  },
  {
   "cell_type": "code",
   "execution_count": 18,
   "metadata": {},
   "outputs": [
    {
     "name": "stdout",
     "output_type": "stream",
     "text": [
      "1.0\n"
     ]
    },
    {
     "name": "stderr",
     "output_type": "stream",
     "text": [
      "100%|██████████| 20/20 [00:04<00:00,  4.78it/s]\n"
     ]
    },
    {
     "name": "stdout",
     "output_type": "stream",
     "text": [
      "12.11111111111111\n"
     ]
    },
    {
     "name": "stderr",
     "output_type": "stream",
     "text": [
      "100%|██████████| 20/20 [00:04<00:00,  4.75it/s]\n"
     ]
    },
    {
     "name": "stdout",
     "output_type": "stream",
     "text": [
      "23.22222222222222\n"
     ]
    },
    {
     "name": "stderr",
     "output_type": "stream",
     "text": [
      "100%|██████████| 20/20 [00:04<00:00,  4.68it/s]\n"
     ]
    },
    {
     "name": "stdout",
     "output_type": "stream",
     "text": [
      "34.33333333333333\n"
     ]
    },
    {
     "name": "stderr",
     "output_type": "stream",
     "text": [
      "100%|██████████| 20/20 [00:04<00:00,  4.67it/s]\n"
     ]
    },
    {
     "name": "stdout",
     "output_type": "stream",
     "text": [
      "45.44444444444444\n"
     ]
    },
    {
     "name": "stderr",
     "output_type": "stream",
     "text": [
      "100%|██████████| 20/20 [00:04<00:00,  4.70it/s]\n"
     ]
    },
    {
     "name": "stdout",
     "output_type": "stream",
     "text": [
      "56.55555555555556\n"
     ]
    },
    {
     "name": "stderr",
     "output_type": "stream",
     "text": [
      "100%|██████████| 20/20 [00:04<00:00,  4.68it/s]\n"
     ]
    },
    {
     "name": "stdout",
     "output_type": "stream",
     "text": [
      "67.66666666666666\n"
     ]
    },
    {
     "ename": "KeyboardInterrupt",
     "evalue": "",
     "output_type": "error",
     "traceback": [
      "\u001b[1;31m---------------------------------------------------------------------------\u001b[0m",
      "\u001b[1;31mKeyboardInterrupt\u001b[0m                         Traceback (most recent call last)",
      "\u001b[1;32mc:\\Users\\Richard\\Documents\\PythonProjekte\\Darts\\analysis.ipynb Cell 6\u001b[0m in \u001b[0;36m<cell line: 2>\u001b[1;34m()\u001b[0m\n\u001b[0;32m      <a href='vscode-notebook-cell:/c%3A/Users/Richard/Documents/PythonProjekte/Darts/analysis.ipynb#X12sZmlsZQ%3D%3D?line=1'>2</a>\u001b[0m \u001b[39mfor\u001b[39;00m cfg\u001b[39m.\u001b[39msigma \u001b[39min\u001b[39;00m np\u001b[39m.\u001b[39mlinspace(\u001b[39m1\u001b[39m, \u001b[39m101\u001b[39m, \u001b[39m10\u001b[39m):\n\u001b[0;32m      <a href='vscode-notebook-cell:/c%3A/Users/Richard/Documents/PythonProjekte/Darts/analysis.ipynb#X12sZmlsZQ%3D%3D?line=2'>3</a>\u001b[0m     \u001b[39mprint\u001b[39m(cfg\u001b[39m.\u001b[39msigma)\n\u001b[1;32m----> <a href='vscode-notebook-cell:/c%3A/Users/Richard/Documents/PythonProjekte/Darts/analysis.ipynb#X12sZmlsZQ%3D%3D?line=3'>4</a>\u001b[0m     r\u001b[39m.\u001b[39mappend(dummy())\n",
      "\u001b[1;32mc:\\Users\\Richard\\Documents\\PythonProjekte\\Darts\\analysis.ipynb Cell 6\u001b[0m in \u001b[0;36mdummy\u001b[1;34m()\u001b[0m\n\u001b[0;32m      <a href='vscode-notebook-cell:/c%3A/Users/Richard/Documents/PythonProjekte/Darts/analysis.ipynb#X12sZmlsZQ%3D%3D?line=6'>7</a>\u001b[0m cfg\u001b[39m.\u001b[39msigma \u001b[39m=\u001b[39m \u001b[39m10\u001b[39m\n\u001b[0;32m      <a href='vscode-notebook-cell:/c%3A/Users/Richard/Documents/PythonProjekte/Darts/analysis.ipynb#X12sZmlsZQ%3D%3D?line=7'>8</a>\u001b[0m cfg\u001b[39m.\u001b[39mmu \u001b[39m=\u001b[39m translate_polar_to_kart(r, phi)\n\u001b[1;32m----> <a href='vscode-notebook-cell:/c%3A/Users/Richard/Documents/PythonProjekte/Darts/analysis.ipynb#X12sZmlsZQ%3D%3D?line=8'>9</a>\u001b[0m result[\u001b[39m\"\u001b[39m\u001b[39mBull\u001b[39m\u001b[39m\"\u001b[39m] \u001b[39m=\u001b[39m get_expected_value(\u001b[39mNone\u001b[39;49;00m)\n\u001b[0;32m     <a href='vscode-notebook-cell:/c%3A/Users/Richard/Documents/PythonProjekte/Darts/analysis.ipynb#X12sZmlsZQ%3D%3D?line=10'>11</a>\u001b[0m r \u001b[39m=\u001b[39m (cfg\u001b[39m.\u001b[39mtriple_inner \u001b[39m+\u001b[39m cfg\u001b[39m.\u001b[39mtriple_outer)\u001b[39m/\u001b[39m\u001b[39m2\u001b[39m\n\u001b[0;32m     <a href='vscode-notebook-cell:/c%3A/Users/Richard/Documents/PythonProjekte/Darts/analysis.ipynb#X12sZmlsZQ%3D%3D?line=11'>12</a>\u001b[0m \u001b[39mfor\u001b[39;00m i \u001b[39min\u001b[39;00m tqdm(\u001b[39mrange\u001b[39m(\u001b[39m20\u001b[39m)):\n",
      "File \u001b[1;32mc:\\Users\\Richard\\Documents\\PythonProjekte\\Darts\\calculations.py:66\u001b[0m, in \u001b[0;36mget_expected_value\u001b[1;34m(event)\u001b[0m\n\u001b[0;32m     64\u001b[0m         phi1 \u001b[39m=\u001b[39m \u001b[39m18\u001b[39m\u001b[39m/\u001b[39m\u001b[39m360\u001b[39m\u001b[39m*\u001b[39m\u001b[39m2\u001b[39m\u001b[39m*\u001b[39mnp\u001b[39m.\u001b[39mpi \u001b[39m*\u001b[39m (k \u001b[39m-\u001b[39m \u001b[39m1\u001b[39m\u001b[39m/\u001b[39m\u001b[39m2\u001b[39m) \n\u001b[0;32m     65\u001b[0m         phi2 \u001b[39m=\u001b[39m \u001b[39m18\u001b[39m\u001b[39m/\u001b[39m\u001b[39m360\u001b[39m\u001b[39m*\u001b[39m\u001b[39m2\u001b[39m\u001b[39m*\u001b[39mnp\u001b[39m.\u001b[39mpi \u001b[39m*\u001b[39m (k \u001b[39m+\u001b[39m \u001b[39m1\u001b[39m\u001b[39m/\u001b[39m\u001b[39m2\u001b[39m) \n\u001b[1;32m---> 66\u001b[0m         e \u001b[39m+\u001b[39m\u001b[39m=\u001b[39m adaptiv_integral(prob_density_polar, r1, r2, phi1, phi2)\u001b[39m*\u001b[39mcfg\u001b[39m.\u001b[39mnumbers[k]\u001b[39m*\u001b[39mcfg\u001b[39m.\u001b[39mradien_factor[i]\n\u001b[0;32m     68\u001b[0m \u001b[39mif\u001b[39;00m event \u001b[39m==\u001b[39m \u001b[39mNone\u001b[39;00m:\n\u001b[0;32m     69\u001b[0m     \u001b[39mreturn\u001b[39;00m e\n",
      "File \u001b[1;32mc:\\Users\\Richard\\Documents\\PythonProjekte\\Darts\\calculations.py:87\u001b[0m, in \u001b[0;36madaptiv_integral\u001b[1;34m(f, x1, x2, y1, y2, e)\u001b[0m\n\u001b[0;32m     84\u001b[0m     mx \u001b[39m=\u001b[39m (x2 \u001b[39m+\u001b[39m x1) \u001b[39m/\u001b[39m \u001b[39m2\u001b[39m\n\u001b[0;32m     85\u001b[0m     my \u001b[39m=\u001b[39m (y2 \u001b[39m+\u001b[39m y1) \u001b[39m/\u001b[39m \u001b[39m2\u001b[39m\n\u001b[1;32m---> 87\u001b[0m     integral \u001b[39m=\u001b[39m adaptiv_integral(f, x1, mx, y1, my) \u001b[39m+\u001b[39m adaptiv_integral(f, mx, x2, y1, my) \u001b[39m+\u001b[39m \\\n\u001b[0;32m     88\u001b[0m         adaptiv_integral(f, x1, mx, my, y2) \u001b[39m+\u001b[39m adaptiv_integral(f, mx, x2, my, y2)\n\u001b[0;32m     90\u001b[0m \u001b[39melse\u001b[39;00m:\n\u001b[0;32m     91\u001b[0m     integral \u001b[39m=\u001b[39m simpson\n",
      "File \u001b[1;32mc:\\Users\\Richard\\Documents\\PythonProjekte\\Darts\\calculations.py:88\u001b[0m, in \u001b[0;36madaptiv_integral\u001b[1;34m(f, x1, x2, y1, y2, e)\u001b[0m\n\u001b[0;32m     84\u001b[0m     mx \u001b[39m=\u001b[39m (x2 \u001b[39m+\u001b[39m x1) \u001b[39m/\u001b[39m \u001b[39m2\u001b[39m\n\u001b[0;32m     85\u001b[0m     my \u001b[39m=\u001b[39m (y2 \u001b[39m+\u001b[39m y1) \u001b[39m/\u001b[39m \u001b[39m2\u001b[39m\n\u001b[0;32m     87\u001b[0m     integral \u001b[39m=\u001b[39m adaptiv_integral(f, x1, mx, y1, my) \u001b[39m+\u001b[39m adaptiv_integral(f, mx, x2, y1, my) \u001b[39m+\u001b[39m \\\n\u001b[1;32m---> 88\u001b[0m         adaptiv_integral(f, x1, mx, my, y2) \u001b[39m+\u001b[39m adaptiv_integral(f, mx, x2, my, y2)\n\u001b[0;32m     90\u001b[0m \u001b[39melse\u001b[39;00m:\n\u001b[0;32m     91\u001b[0m     integral \u001b[39m=\u001b[39m simpson\n",
      "File \u001b[1;32mc:\\Users\\Richard\\Documents\\PythonProjekte\\Darts\\calculations.py:88\u001b[0m, in \u001b[0;36madaptiv_integral\u001b[1;34m(f, x1, x2, y1, y2, e)\u001b[0m\n\u001b[0;32m     84\u001b[0m     mx \u001b[39m=\u001b[39m (x2 \u001b[39m+\u001b[39m x1) \u001b[39m/\u001b[39m \u001b[39m2\u001b[39m\n\u001b[0;32m     85\u001b[0m     my \u001b[39m=\u001b[39m (y2 \u001b[39m+\u001b[39m y1) \u001b[39m/\u001b[39m \u001b[39m2\u001b[39m\n\u001b[0;32m     87\u001b[0m     integral \u001b[39m=\u001b[39m adaptiv_integral(f, x1, mx, y1, my) \u001b[39m+\u001b[39m adaptiv_integral(f, mx, x2, y1, my) \u001b[39m+\u001b[39m \\\n\u001b[1;32m---> 88\u001b[0m         adaptiv_integral(f, x1, mx, my, y2) \u001b[39m+\u001b[39m adaptiv_integral(f, mx, x2, my, y2)\n\u001b[0;32m     90\u001b[0m \u001b[39melse\u001b[39;00m:\n\u001b[0;32m     91\u001b[0m     integral \u001b[39m=\u001b[39m simpson\n",
      "File \u001b[1;32mc:\\Users\\Richard\\Documents\\PythonProjekte\\Darts\\calculations.py:87\u001b[0m, in \u001b[0;36madaptiv_integral\u001b[1;34m(f, x1, x2, y1, y2, e)\u001b[0m\n\u001b[0;32m     84\u001b[0m     mx \u001b[39m=\u001b[39m (x2 \u001b[39m+\u001b[39m x1) \u001b[39m/\u001b[39m \u001b[39m2\u001b[39m\n\u001b[0;32m     85\u001b[0m     my \u001b[39m=\u001b[39m (y2 \u001b[39m+\u001b[39m y1) \u001b[39m/\u001b[39m \u001b[39m2\u001b[39m\n\u001b[1;32m---> 87\u001b[0m     integral \u001b[39m=\u001b[39m adaptiv_integral(f, x1, mx, y1, my) \u001b[39m+\u001b[39m adaptiv_integral(f, mx, x2, y1, my) \u001b[39m+\u001b[39m \\\n\u001b[0;32m     88\u001b[0m         adaptiv_integral(f, x1, mx, my, y2) \u001b[39m+\u001b[39m adaptiv_integral(f, mx, x2, my, y2)\n\u001b[0;32m     90\u001b[0m \u001b[39melse\u001b[39;00m:\n\u001b[0;32m     91\u001b[0m     integral \u001b[39m=\u001b[39m simpson\n",
      "File \u001b[1;32mc:\\Users\\Richard\\Documents\\PythonProjekte\\Darts\\calculations.py:87\u001b[0m, in \u001b[0;36madaptiv_integral\u001b[1;34m(f, x1, x2, y1, y2, e)\u001b[0m\n\u001b[0;32m     84\u001b[0m     mx \u001b[39m=\u001b[39m (x2 \u001b[39m+\u001b[39m x1) \u001b[39m/\u001b[39m \u001b[39m2\u001b[39m\n\u001b[0;32m     85\u001b[0m     my \u001b[39m=\u001b[39m (y2 \u001b[39m+\u001b[39m y1) \u001b[39m/\u001b[39m \u001b[39m2\u001b[39m\n\u001b[1;32m---> 87\u001b[0m     integral \u001b[39m=\u001b[39m adaptiv_integral(f, x1, mx, y1, my) \u001b[39m+\u001b[39m adaptiv_integral(f, mx, x2, y1, my) \u001b[39m+\u001b[39m \\\n\u001b[0;32m     88\u001b[0m         adaptiv_integral(f, x1, mx, my, y2) \u001b[39m+\u001b[39m adaptiv_integral(f, mx, x2, my, y2)\n\u001b[0;32m     90\u001b[0m \u001b[39melse\u001b[39;00m:\n\u001b[0;32m     91\u001b[0m     integral \u001b[39m=\u001b[39m simpson\n",
      "File \u001b[1;32mc:\\Users\\Richard\\Documents\\PythonProjekte\\Darts\\calculations.py:80\u001b[0m, in \u001b[0;36madaptiv_integral\u001b[1;34m(f, x1, x2, y1, y2, e)\u001b[0m\n\u001b[0;32m     78\u001b[0m area \u001b[39m=\u001b[39m (x2 \u001b[39m-\u001b[39m x1)\u001b[39m*\u001b[39m(y2 \u001b[39m-\u001b[39m y1)\n\u001b[0;32m     79\u001b[0m trapez \u001b[39m=\u001b[39m trapez_rule(f, x1, x2, y1, y2)\n\u001b[1;32m---> 80\u001b[0m simpson \u001b[39m=\u001b[39m simpson_rule(f, x1, x2, y1, y2)\n\u001b[0;32m     81\u001b[0m err \u001b[39m=\u001b[39m np\u001b[39m.\u001b[39mabs(trapez \u001b[39m-\u001b[39m simpson)\n\u001b[0;32m     83\u001b[0m \u001b[39mif\u001b[39;00m err \u001b[39m>\u001b[39m e:                 \u001b[39m# Abhängig von der größer des Feldes? \u001b[39;00m\n",
      "File \u001b[1;32mc:\\Users\\Richard\\Documents\\PythonProjekte\\Darts\\calculations.py:103\u001b[0m, in \u001b[0;36msimpson_rule\u001b[1;34m(f, x1, x2, y1, y2)\u001b[0m\n\u001b[0;32m    102\u001b[0m \u001b[39mdef\u001b[39;00m \u001b[39msimpson_rule\u001b[39m(f, x1, x2, y1, y2):\n\u001b[1;32m--> 103\u001b[0m     x \u001b[39m=\u001b[39m np\u001b[39m.\u001b[39;49mlinspace(x1, x2, \u001b[39m3\u001b[39;49m)\n\u001b[0;32m    104\u001b[0m     y \u001b[39m=\u001b[39m np\u001b[39m.\u001b[39mlinspace(y1, y2, \u001b[39m3\u001b[39m)\n\u001b[0;32m    105\u001b[0m     hx \u001b[39m=\u001b[39m x[\u001b[39m1\u001b[39m] \u001b[39m-\u001b[39m x[\u001b[39m0\u001b[39m]\n",
      "File \u001b[1;32m<__array_function__ internals>:180\u001b[0m, in \u001b[0;36mlinspace\u001b[1;34m(*args, **kwargs)\u001b[0m\n",
      "File \u001b[1;32mc:\\Users\\Richard\\AppData\\Local\\Programs\\Python\\Python39\\lib\\site-packages\\numpy\\core\\function_base.py:135\u001b[0m, in \u001b[0;36mlinspace\u001b[1;34m(start, stop, num, endpoint, retstep, dtype, axis)\u001b[0m\n\u001b[0;32m    132\u001b[0m     dtype \u001b[39m=\u001b[39m dt\n\u001b[0;32m    134\u001b[0m delta \u001b[39m=\u001b[39m stop \u001b[39m-\u001b[39m start\n\u001b[1;32m--> 135\u001b[0m y \u001b[39m=\u001b[39m _nx\u001b[39m.\u001b[39;49marange(\u001b[39m0\u001b[39;49m, num, dtype\u001b[39m=\u001b[39;49mdt)\u001b[39m.\u001b[39mreshape((\u001b[39m-\u001b[39m\u001b[39m1\u001b[39m,) \u001b[39m+\u001b[39m (\u001b[39m1\u001b[39m,) \u001b[39m*\u001b[39m ndim(delta))\n\u001b[0;32m    136\u001b[0m \u001b[39m# In-place multiplication y *= delta/div is faster, but prevents the multiplicant\u001b[39;00m\n\u001b[0;32m    137\u001b[0m \u001b[39m# from overriding what class is produced, and thus prevents, e.g. use of Quantities,\u001b[39;00m\n\u001b[0;32m    138\u001b[0m \u001b[39m# see gh-7142. Hence, we multiply in place only for standard scalar types.\u001b[39;00m\n\u001b[0;32m    139\u001b[0m _mult_inplace \u001b[39m=\u001b[39m _nx\u001b[39m.\u001b[39misscalar(delta)\n",
      "\u001b[1;31mKeyboardInterrupt\u001b[0m: "
     ]
    }
   ],
   "source": [
    "r = []\n",
    "for cfg.sigma in tqdm(np.linspace(1, 100, 5)):\n",
    "    print(cfg.sigma)\n",
    "    r.append(dummy())\n"
   ]
  },
  {
   "cell_type": "code",
   "execution_count": 9,
   "metadata": {},
   "outputs": [
    {
     "name": "stderr",
     "output_type": "stream",
     "text": [
      "100%|██████████| 20/20 [00:04<00:00,  4.79it/s]\n"
     ]
    }
   ],
   "source": [
    "result = {}\n",
    "\n",
    "# Bullseye\n",
    "r = 0\n",
    "phi = 0\n",
    "cfg.sigma = 10\n",
    "cfg.mu = translate_polar_to_kart(r, phi)\n",
    "result[\"Bull\"] = get_expected_value(None)\n",
    "\n",
    "r = (cfg.triple_inner + cfg.triple_outer)/2\n",
    "for i in tqdm(range(20)):\n",
    "    phi = i*(18/360*2*np.pi)\n",
    "    cfg.mu = translate_polar_to_kart(r, phi)\n",
    "    result[cfg.numbers[i]] = get_expected_value(None) "
   ]
  },
  {
   "cell_type": "code",
   "execution_count": null,
   "metadata": {},
   "outputs": [],
   "source": [
    "for "
   ]
  }
 ],
 "metadata": {
  "kernelspec": {
   "display_name": "Python 3.9.13 64-bit",
   "language": "python",
   "name": "python3"
  },
  "language_info": {
   "codemirror_mode": {
    "name": "ipython",
    "version": 3
   },
   "file_extension": ".py",
   "mimetype": "text/x-python",
   "name": "python",
   "nbconvert_exporter": "python",
   "pygments_lexer": "ipython3",
   "version": "3.9.13"
  },
  "orig_nbformat": 4,
  "vscode": {
   "interpreter": {
    "hash": "1f75d4300c98866f40d1e10deee10426ffb140b922e2af3ea4e40409295cc311"
   }
  }
 },
 "nbformat": 4,
 "nbformat_minor": 2
}
